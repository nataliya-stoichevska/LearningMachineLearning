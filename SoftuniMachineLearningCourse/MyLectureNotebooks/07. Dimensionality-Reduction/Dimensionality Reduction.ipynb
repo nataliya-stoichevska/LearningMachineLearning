{
 "cells": [
  {
   "attachments": {},
   "cell_type": "markdown",
   "id": "38881380",
   "metadata": {},
   "source": [
    "# Dimensionality Reduction\n",
    "\n",
    "Reducing the number of features via projection"
   ]
  },
  {
   "cell_type": "markdown",
   "id": "62fd9341",
   "metadata": {},
   "source": [
    "<strong>Feature selection</strong> -  Избираме конкретни колони (има за цел да махне конкретни колони)\n",
    "\n",
    "<strong>Feature extraction</strong> - Означава да намерим от неструктурирани данни някаква структура\n",
    "\n",
    "<strong>Feature engeneering</strong> - Процесът чрез който опитваме ние на база на наши познания за данните да подадем features които са полезни за данните\n",
    "\n",
    "<strong>Dimensionality Reduction</strong> - Комбиниране на всяка една колона, но има за цел да махне някоя от комбинациите"
   ]
  },
  {
   "attachments": {},
   "cell_type": "markdown",
   "id": "7b512d45",
   "metadata": {},
   "source": [
    "## Principal Component Analysis (PCA)\n",
    "\n",
    "A <strong>non-parametric</strong> (няма нужда от настройване) technique for feature extraction\n",
    "\n",
    "- Transforms all variables so they are linearly independent\n",
    "\n",
    "    - Note that this is a linear transformation\n",
    "    \n",
    "The transformation is done to increase the explained variance in the data\n",
    "\n",
    "Number of principal components (PC): 𝑝=min⁡(𝑚, 𝑛)\n",
    "\n",
    "- 𝑚 – number of features, 𝑛 – number of observations\n",
    "\n",
    "- Sorted from highest to lowest explained variance\n",
    "\n",
    "Most widely used practical application\n",
    "\n",
    "- Load a high-dimensional dataset with 𝑚 features\n",
    "- Perform PCA, remove last 𝑘 components\n",
    "    - Result: dataset with 𝑚−𝑘 features\n",
    "    - Note that these are not 𝑚−𝑘 of the original columns!"
   ]
  },
  {
   "cell_type": "code",
   "execution_count": null,
   "id": "8ffd9420",
   "metadata": {},
   "outputs": [],
   "source": []
  }
 ],
 "metadata": {
  "kernelspec": {
   "display_name": "Python 3 (ipykernel)",
   "language": "python",
   "name": "python3"
  },
  "language_info": {
   "codemirror_mode": {
    "name": "ipython",
    "version": 3
   },
   "file_extension": ".py",
   "mimetype": "text/x-python",
   "name": "python",
   "nbconvert_exporter": "python",
   "pygments_lexer": "ipython3",
   "version": "3.10.5"
  }
 },
 "nbformat": 4,
 "nbformat_minor": 5
}
